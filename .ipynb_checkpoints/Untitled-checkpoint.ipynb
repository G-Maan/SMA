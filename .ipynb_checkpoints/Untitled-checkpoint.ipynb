{
 "cells": [
  {
   "cell_type": "code",
   "execution_count": 3,
   "metadata": {},
   "outputs": [],
   "source": [
    "import os\n",
    "import pandas as pd\n",
    "import folium"
   ]
  },
  {
   "cell_type": "code",
   "execution_count": 50,
   "metadata": {},
   "outputs": [],
   "source": [
    "xls = pd.ExcelFile(\"export_geolocation_x_uk_x_filter_nativeretweets_geocode_55_378051_3_43597299999999_750km_2016_04_21_12_01_19.xlsx\")"
   ]
  },
  {
   "cell_type": "code",
   "execution_count": 64,
   "metadata": {},
   "outputs": [
    {
     "data": {
      "text/html": [
       "<div>\n",
       "<style scoped>\n",
       "    .dataframe tbody tr th:only-of-type {\n",
       "        vertical-align: middle;\n",
       "    }\n",
       "\n",
       "    .dataframe tbody tr th {\n",
       "        vertical-align: top;\n",
       "    }\n",
       "\n",
       "    .dataframe thead th {\n",
       "        text-align: right;\n",
       "    }\n",
       "</style>\n",
       "<table border=\"1\" class=\"dataframe\">\n",
       "  <thead>\n",
       "    <tr style=\"text-align: right;\">\n",
       "      <th></th>\n",
       "      <th>Place (as appears on Bio)</th>\n",
       "      <th>Keyword Repetitions</th>\n",
       "      <th>Latitude</th>\n",
       "      <th>Longitude</th>\n",
       "    </tr>\n",
       "  </thead>\n",
       "  <tbody>\n",
       "    <tr>\n",
       "      <th>0</th>\n",
       "      <td>London, England</td>\n",
       "      <td>11355</td>\n",
       "      <td>51.505185</td>\n",
       "      <td>-0.150128</td>\n",
       "    </tr>\n",
       "    <tr>\n",
       "      <th>1</th>\n",
       "      <td>Dublin City, Ireland</td>\n",
       "      <td>3597</td>\n",
       "      <td>53.336995</td>\n",
       "      <td>-6.279686</td>\n",
       "    </tr>\n",
       "    <tr>\n",
       "      <th>2</th>\n",
       "      <td>Manchester, England</td>\n",
       "      <td>3365</td>\n",
       "      <td>53.480759</td>\n",
       "      <td>-2.242631</td>\n",
       "    </tr>\n",
       "    <tr>\n",
       "      <th>3</th>\n",
       "      <td>South East, England</td>\n",
       "      <td>3137</td>\n",
       "      <td>51.617222</td>\n",
       "      <td>-0.601111</td>\n",
       "    </tr>\n",
       "    <tr>\n",
       "      <th>4</th>\n",
       "      <td>Camberwell, London</td>\n",
       "      <td>2921</td>\n",
       "      <td>51.507447</td>\n",
       "      <td>-0.094328</td>\n",
       "    </tr>\n",
       "  </tbody>\n",
       "</table>\n",
       "</div>"
      ],
      "text/plain": [
       "  Place (as appears on Bio)  Keyword Repetitions   Latitude  Longitude\n",
       "0           London, England                11355  51.505185  -0.150128\n",
       "1      Dublin City, Ireland                 3597  53.336995  -6.279686\n",
       "2       Manchester, England                 3365  53.480759  -2.242631\n",
       "3       South East, England                 3137  51.617222  -0.601111\n",
       "4        Camberwell, London                 2921  51.507447  -0.094328"
      ]
     },
     "execution_count": 64,
     "metadata": {},
     "output_type": "execute_result"
    }
   ],
   "source": [
    "df = pd.read_excel(\"export_dashboard_x_uk_x_filter_nativeretweets_geocode_55_378051_3_43597299999999_750km_2016_04_21_10_32_03.xlsx\", sheet_name=\"Geolocalization\")\n",
    "df.head()"
   ]
  },
  {
   "cell_type": "code",
   "execution_count": 74,
   "metadata": {
    "scrolled": false
   },
   "outputs": [
    {
     "data": {
      "text/html": [
       "<div style=\"width:100%;\"><div style=\"position:relative;width:100%;height:0;padding-bottom:60%;\"><iframe src=\"data:text/html;charset=utf-8;base64,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\" style=\"position:absolute;width:100%;height:100%;left:0;top:0;border:none !important;\" allowfullscreen webkitallowfullscreen mozallowfullscreen></iframe></div></div>"
      ],
      "text/plain": [
       "<folium.folium.Map at 0x221f0a66470>"
      ]
     },
     "execution_count": 74,
     "metadata": {},
     "output_type": "execute_result"
    }
   ],
   "source": [
    "import numpy as np\n",
    "from folium.plugins import HeatMap\n",
    "\n",
    "m = folium.Map([51.509865, -0.118092], zoom_start=6)\n",
    "hashtagArr = df[['Latitude', 'Longitude']].values\n",
    "m.add_child(HeatMap(hashtagArr, radius=15))\n",
    "m.save('Heatmap.html')\n",
    "m"
   ]
  }
 ],
 "metadata": {
  "kernelspec": {
   "display_name": "Python 3",
   "language": "python",
   "name": "python3"
  },
  "language_info": {
   "codemirror_mode": {
    "name": "ipython",
    "version": 3
   },
   "file_extension": ".py",
   "mimetype": "text/x-python",
   "name": "python",
   "nbconvert_exporter": "python",
   "pygments_lexer": "ipython3",
   "version": "3.6.4"
  }
 },
 "nbformat": 4,
 "nbformat_minor": 2
}
